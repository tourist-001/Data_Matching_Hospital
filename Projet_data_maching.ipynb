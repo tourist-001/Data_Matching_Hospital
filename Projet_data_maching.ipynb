{
  "nbformat": 4,
  "nbformat_minor": 0,
  "metadata": {
    "colab": {
      "name": "Projet_data_maching.ipynb",
      "provenance": [],
      "authorship_tag": "ABX9TyO//KuRYg/STJa7V3bEkWgj",
      "include_colab_link": true
    },
    "kernelspec": {
      "name": "python3",
      "display_name": "Python 3"
    },
    "language_info": {
      "name": "python"
    }
  },
  "cells": [
    {
      "cell_type": "markdown",
      "metadata": {
        "id": "view-in-github",
        "colab_type": "text"
      },
      "source": [
        "<a href=\"https://colab.research.google.com/github/tourist-001/Data_Matching_Hospital/blob/junot/Projet_data_maching.ipynb\" target=\"_parent\"><img src=\"https://colab.research.google.com/assets/colab-badge.svg\" alt=\"Open In Colab\"/></a>"
      ]
    },
    {
      "cell_type": "markdown",
      "source": [
        "#Projet Data Matching\n",
        "## Yu Rui - Sidali - Samba - Antoine"
      ],
      "metadata": {
        "id": "lx6JudalCMO3"
      }
    },
    {
      "cell_type": "code",
      "execution_count": null,
      "metadata": {
        "id": "2wgN2GcN_4wI"
      },
      "outputs": [],
      "source": [
        "#Importation des librairies\n"
      ]
    },
    {
      "cell_type": "code",
      "source": [
        "# Chargement des dataset et visualisation"
      ],
      "metadata": {
        "id": "C4QQKaZqCazT"
      },
      "execution_count": null,
      "outputs": []
    }
  ]
}